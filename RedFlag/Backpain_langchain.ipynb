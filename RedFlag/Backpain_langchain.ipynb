{
 "cells": [
  {
   "cell_type": "code",
   "execution_count": null,
   "id": "bec6de56",
   "metadata": {},
   "outputs": [],
   "source": [
    "import warnings\n",
    "warnings.filterwarnings('ignore')\n",
    "\n",
    "from langchain.chat_models import ChatOpenAI\n",
    "from langchain.prompts import ChatPromptTemplate\n",
    "from langchain.chains import LLMChain\n",
    "\n",
    "llm = ChatOpenAI(temperature=0)\n",
    "\n",
    "backpain_template = \"\"\"You are a professional doctor. \\\n",
    "You are great at answering questions about various diagnosis in a concise \\\n",
    "and easy to understand manner. \\\n",
    "If you are asked for a particular type of symptom you answer it with its description, possible diagnosis, symptoms, causes, risk factors, and treatments. \\\n",
    "When you don't know the answer to a question, you admit that you don't know.\n",
    "\n",
    "Here is a question:\n",
    "{input}\"\"\"\n",
    "\n",
    "prompt_template = backpain_template\n",
    "prompt = ChatPromptTemplate.from_template(template=prompt_template)\n",
    "chain = LLMChain(llm=llm, prompt=prompt)\n",
    "\n",
    "def symptom_checker():\n",
    "    selected_symptoms = input(\"Enter your symptoms (separated by commas): \")\n",
    "    input_text = \" \".join(selected_symptoms.split(\",\"))\n",
    "    response = chain.run(input_text)\n",
    "    diagnosis_info = response\n",
    "    \n",
    "    print(\"Selected Symptoms:\")\n",
    "    print(selected_symptoms)\n",
    "    print(\"\\nDiagnosis Information:\")\n",
    "    print(diagnosis_info)\n",
    "\n",
    "symptom_checker()\n"
   ]
  }
 ],
 "metadata": {
  "kernelspec": {
   "display_name": "Python 3 (ipykernel)",
   "language": "python",
   "name": "python3"
  },
  "language_info": {
   "codemirror_mode": {
    "name": "ipython",
    "version": 3
   },
   "file_extension": ".py",
   "mimetype": "text/x-python",
   "name": "python",
   "nbconvert_exporter": "python",
   "pygments_lexer": "ipython3",
   "version": "3.9.13"
  }
 },
 "nbformat": 4,
 "nbformat_minor": 5
}
